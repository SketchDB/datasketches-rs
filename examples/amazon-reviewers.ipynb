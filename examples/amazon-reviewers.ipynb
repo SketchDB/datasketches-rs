{
 "cells": [
  {
   "cell_type": "markdown",
   "metadata": {},
   "source": [
    "## Plot the rolling 28-day count of active reviewers on Amazon"
   ]
  },
  {
   "cell_type": "code",
   "execution_count": 16,
   "metadata": {},
   "outputs": [],
   "source": [
    "# https://nijianmo.github.io/amazon/index.html\n",
    "# 6.7gb\n",
    "# May 1996 - Oct 2018\n",
    "# item,user,rating,timestamp\n",
    "# e.g., 0449819906,A3U4E9PIZ8OWH1,5.0,1383696000\n",
    "# timestamp is then unix time in seconds.\n",
    "review_data = {\n",
    " 'Amazon Fashion': 'http://deepyeti.ucsd.edu/jianmo/amazon/categoryFilesSmall/AMAZON_FASHION.csv',\n",
    " 'All Beauty': 'http://deepyeti.ucsd.edu/jianmo/amazon/categoryFilesSmall/All_Beauty.csv',\n",
    " 'Appliances': 'http://deepyeti.ucsd.edu/jianmo/amazon/categoryFilesSmall/Appliances.csv',\n",
    " 'Arts, Crafts and Sewing': 'http://deepyeti.ucsd.edu/jianmo/amazon/categoryFilesSmall/Arts_Crafts_and_Sewing.csv',\n",
    " 'Automotive': 'http://deepyeti.ucsd.edu/jianmo/amazon/categoryFilesSmall/Automotive.csv',\n",
    " 'Books': 'http://deepyeti.ucsd.edu/jianmo/amazon/categoryFilesSmall/Books.csv',\n",
    " 'CDs and Vinyl': 'http://deepyeti.ucsd.edu/jianmo/amazon/categoryFilesSmall/CDs_and_Vinyl.csv',\n",
    " 'Cell Phones and Accessories': 'http://deepyeti.ucsd.edu/jianmo/amazon/categoryFilesSmall/Cell_Phones_and_Accessories.csv',\n",
    " 'Clothing, Shoes and Jewelry': 'http://deepyeti.ucsd.edu/jianmo/amazon/categoryFilesSmall/Clothing_Shoes_and_Jewelry.csv',\n",
    " 'Digital Music': 'http://deepyeti.ucsd.edu/jianmo/amazon/categoryFilesSmall/Digital_Music.csv',\n",
    " 'Electronics': 'http://deepyeti.ucsd.edu/jianmo/amazon/categoryFilesSmall/Electronics.csv',\n",
    " 'Gift Cards': 'http://deepyeti.ucsd.edu/jianmo/amazon/categoryFilesSmall/Gift_Cards.csv',\n",
    " 'Grocery and Gourmet Food': 'http://deepyeti.ucsd.edu/jianmo/amazon/categoryFilesSmall/Grocery_and_Gourmet_Food.csv',\n",
    " 'Home and Kitchen': 'http://deepyeti.ucsd.edu/jianmo/amazon/categoryFilesSmall/Home_and_Kitchen.csv',\n",
    " 'Industrial and Scientific': 'http://deepyeti.ucsd.edu/jianmo/amazon/categoryFilesSmall/Industrial_and_Scientific.csv',\n",
    " 'Kindle Store': 'http://deepyeti.ucsd.edu/jianmo/amazon/categoryFilesSmall/Kindle_Store.csv',\n",
    " 'Luxury Beauty': 'http://deepyeti.ucsd.edu/jianmo/amazon/categoryFilesSmall/Luxury_Beauty.csv',\n",
    " 'Magazine Subscriptions': 'http://deepyeti.ucsd.edu/jianmo/amazon/categoryFilesSmall/Magazine_Subscriptions.csv',\n",
    " 'Movies and TV': 'http://deepyeti.ucsd.edu/jianmo/amazon/categoryFilesSmall/Movies_and_TV.csv',\n",
    " 'Musical Instruments': 'http://deepyeti.ucsd.edu/jianmo/amazon/categoryFilesSmall/Musical_Instruments.csv',\n",
    " 'Office Products': 'http://deepyeti.ucsd.edu/jianmo/amazon/categoryFilesSmall/Office_Products.csv',\n",
    " 'Patio, Lawn and Garden': 'http://deepyeti.ucsd.edu/jianmo/amazon/categoryFilesSmall/Patio_Lawn_and_Garden.csv',\n",
    " 'Pet Supplies': 'http://deepyeti.ucsd.edu/jianmo/amazon/categoryFilesSmall/Pet_Supplies.csv',\n",
    " 'Prime Pantry': 'http://deepyeti.ucsd.edu/jianmo/amazon/categoryFilesSmall/Prime_Pantry.csv',\n",
    " 'Software': 'http://deepyeti.ucsd.edu/jianmo/amazon/categoryFilesSmall/Software.csv',\n",
    " 'Sports and Outdoors': 'http://deepyeti.ucsd.edu/jianmo/amazon/categoryFilesSmall/Sports_and_Outdoors.csv',\n",
    " 'Tools and Home Improvement': 'http://deepyeti.ucsd.edu/jianmo/amazon/categoryFilesSmall/Tools_and_Home_Improvement.csv',\n",
    " 'Toys and Games': 'http://deepyeti.ucsd.edu/jianmo/amazon/categoryFilesSmall/Toys_and_Games.csv',\n",
    " 'Video Games': 'http://deepyeti.ucsd.edu/jianmo/amazon/categoryFilesSmall/Video_Games.csv'\n",
    "}"
   ]
  },
  {
   "cell_type": "code",
   "execution_count": 50,
   "metadata": {},
   "outputs": [
    {
     "data": {
      "text/plain": [
       "8188.0"
      ]
     },
     "execution_count": 50,
     "metadata": {},
     "output_type": "execute_result"
    }
   ],
   "source": [
    "import pandas as pd\n",
    "# even with a 28d sliding window, if we're sliding by a day, it's still quite a few data points\n",
    "(pd.Timestamp('Oct 2018') - pd.Timestamp('May 1996')) / pd.Timedelta('1d')"
   ]
  },
  {
   "cell_type": "code",
   "execution_count": 40,
   "metadata": {},
   "outputs": [
    {
     "name": "stdout",
     "output_type": "stream",
     "text": [
      "http://deepyeti.ucsd.edu/jianmo/amazon/categoryFilesSmall/AMAZON_FASHION.csv http://deepyeti.ucsd.edu/jianmo/amazon/categoryFilesSmall/All_Beauty.csv http://deepyeti.ucsd.edu/jianmo/amazon/categoryFilesSmall/Appliances.csv\r\n"
     ]
    }
   ],
   "source": [
    "# store all urls in a variable\n",
    "from shlex import quote\n",
    "x = ' '.join(list(map(quote, review_data.values()))[:3])\n",
    "! echo {x}"
   ]
  },
  {
   "cell_type": "code",
   "execution_count": null,
   "metadata": {},
   "outputs": [],
   "source": [
    "! echo 'will cite' | parallel --citation 1> /dev/null 2> /dev/null "
   ]
  },
  {
   "cell_type": "code",
   "execution_count": 48,
   "metadata": {},
   "outputs": [
    {
     "name": "stdout",
     "output_type": "stream",
     "text": [
      "1857758\n"
     ]
    }
   ],
   "source": [
    "%%bash -s {x}\n",
    "\n",
    "# How many reviews?\n",
    "parallel 'curl -sNL {} | wc -l' ::: \"$@\" \\\n",
    "  | awk '{s+=$1}END{print s}'"
   ]
  },
  {
   "cell_type": "code",
   "execution_count": 49,
   "metadata": {},
   "outputs": [
    {
     "name": "stdout",
     "output_type": "stream",
     "text": [
      "1515676\n"
     ]
    }
   ],
   "source": [
    "%%bash -s {x}\n",
    "\n",
    "# How many users?\n",
    "# do this in addition to show off.\n",
    "# TODO -- raw merge extension, dsrs --raw inside parallel, dsrs --merge outside\n",
    "parallel 'curl -sNL {} | cut -d, -f2' ::: \"$@\" \\\n",
    "  | dsrs"
   ]
  },
  {
   "cell_type": "code",
   "execution_count": 58,
   "metadata": {},
   "outputs": [
    {
     "name": "stdout",
     "output_type": "stream",
     "text": [
      "Overwriting /tmp/date-user-extract.awk\n"
     ]
    }
   ],
   "source": [
    "%%writefile /tmp/date-user-extract.awk\n",
    "#!/usr/bin/awk\n",
    "\n",
    "BEGIN {\n",
    "    FS = \",\" \n",
    "}\n",
    "\n",
    "1 {\n",
    "    user = $2;\n",
    "    epoch_sec = $4;\n",
    "    # round down to nearest day\n",
    "    rounded_epoch_sec = strftime(\"%Y %m %d 00 00 00\", epoch_sec);\n",
    "    rounded_epoch_sec = mktime(rounded_epoch_sec)\n",
    "    for (i = 0; i < 28; i += 1) {\n",
    "        dt = strftime(\"%F\", rounded_epoch_sec);\n",
    "        print dt \" \" user\n",
    "        # a day can be more than this many seconds due to leaps but\n",
    "        # since we only decrement 28 times the undershoot doesn't matter\n",
    "        rounded_epoch_sec -= 86400\n",
    "    }\n",
    "}"
   ]
  },
  {
   "cell_type": "code",
   "execution_count": 64,
   "metadata": {},
   "outputs": [
    {
     "name": "stdout",
     "output_type": "stream",
     "text": [
      "2013-11-05 A3U4E9PIZ8OWH1\n",
      "2013-11-04 A3U4E9PIZ8OWH1\n",
      "2013-11-03 A3U4E9PIZ8OWH1\n"
     ]
    }
   ],
   "source": [
    "%%bash\n",
    "\n",
    "# test date mapper\n",
    "echo 0449819906,A3U4E9PIZ8OWH1,5.0,1383696000 | awk -f /tmp/date-user-extract.awk | head -3"
   ]
  },
  {
   "cell_type": "code",
   "execution_count": 65,
   "metadata": {},
   "outputs": [],
   "source": [
    "%%bash -s {x}\n",
    "\n",
    "# How many 28d users?\n",
    "# TODO -- slb extension (needs piping) instead of parallel\n",
    "parallel 'curl -sNL {} | awk -f /tmp/date-user-extract.awk' ::: \"$@\" \\\n",
    "  | dsrs --key > /tmp/ts"
   ]
  },
  {
   "cell_type": "code",
   "execution_count": 74,
   "metadata": {},
   "outputs": [
    {
     "data": {
      "text/html": [
       "<div>\n",
       "<style scoped>\n",
       "    .dataframe tbody tr th:only-of-type {\n",
       "        vertical-align: middle;\n",
       "    }\n",
       "\n",
       "    .dataframe tbody tr th {\n",
       "        vertical-align: top;\n",
       "    }\n",
       "\n",
       "    .dataframe thead th {\n",
       "        text-align: right;\n",
       "    }\n",
       "</style>\n",
       "<table border=\"1\" class=\"dataframe\">\n",
       "  <thead>\n",
       "    <tr style=\"text-align: right;\">\n",
       "      <th></th>\n",
       "      <th>cnt</th>\n",
       "    </tr>\n",
       "    <tr>\n",
       "      <th>date</th>\n",
       "      <th></th>\n",
       "    </tr>\n",
       "  </thead>\n",
       "  <tbody>\n",
       "    <tr>\n",
       "      <th>2012-06-01</th>\n",
       "      <td>1594</td>\n",
       "    </tr>\n",
       "    <tr>\n",
       "      <th>2007-05-17</th>\n",
       "      <td>274</td>\n",
       "    </tr>\n",
       "    <tr>\n",
       "      <th>2017-08-12</th>\n",
       "      <td>26571</td>\n",
       "    </tr>\n",
       "    <tr>\n",
       "      <th>2015-03-15</th>\n",
       "      <td>25280</td>\n",
       "    </tr>\n",
       "    <tr>\n",
       "      <th>2011-03-07</th>\n",
       "      <td>1013</td>\n",
       "    </tr>\n",
       "  </tbody>\n",
       "</table>\n",
       "</div>"
      ],
      "text/plain": [
       "              cnt\n",
       "date             \n",
       "2012-06-01   1594\n",
       "2007-05-17    274\n",
       "2017-08-12  26571\n",
       "2015-03-15  25280\n",
       "2011-03-07   1013"
      ]
     },
     "execution_count": 74,
     "metadata": {},
     "output_type": "execute_result"
    }
   ],
   "source": [
    "t = pd.read_csv('/tmp/ts', delimiter=' ', names=[\"date\", \"cnt\"])\n",
    "t.set_index(\"date\", inplace=True, verify_integrity=True)\n",
    "t.head()"
   ]
  },
  {
   "cell_type": "code",
   "execution_count": 75,
   "metadata": {},
   "outputs": [],
   "source": [
    "t.sort_index(inplace=True)"
   ]
  },
  {
   "cell_type": "code",
   "execution_count": 81,
   "metadata": {},
   "outputs": [
    {
     "data": {
      "image/png": "[encoded data removed]",
      "text/plain": [
       "<Figure size 432x288 with 1 Axes>"
      ]
     },
     "metadata": {
      "needs_background": "light"
     },
     "output_type": "display_data"
    }
   ],
   "source": [
    "from matplotlib import pyplot as plt\n",
    "%matplotlib inline\n",
    "(t/28).plot(rot=45, legend=False)\n",
    "plt.xlabel(\"date\")\n",
    "plt.ylabel(\"users\")\n",
    "plt.title(\"28-day rolling average amazon reviewers\")\n",
    "plt.show()"
   ]
  },
  {
   "cell_type": "code",
   "execution_count": null,
   "metadata": {},
   "outputs": [],
   "source": []
  }
 ],
 "metadata": {
  "kernelspec": {
   "display_name": "Python 3",
   "language": "python",
   "name": "python3"
  },
  "language_info": {
   "codemirror_mode": {
    "name": "ipython",
    "version": 3
   },
   "file_extension": ".py",
   "mimetype": "text/x-python",
   "name": "python",
   "nbconvert_exporter": "python",
   "pygments_lexer": "ipython3",
   "version": "3.7.4"
  }
 },
 "nbformat": 4,
 "nbformat_minor": 2
}
